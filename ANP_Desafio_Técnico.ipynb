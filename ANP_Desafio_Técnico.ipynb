{
  "nbformat": 4,
  "nbformat_minor": 0,
  "metadata": {
    "colab": {
      "provenance": [],
      "authorship_tag": "ABX9TyN5gy1sALGWZZAU+izwCOr/",
      "include_colab_link": true
    },
    "kernelspec": {
      "name": "python3",
      "display_name": "Python 3"
    },
    "language_info": {
      "name": "python"
    }
  },
  "cells": [
    {
      "cell_type": "markdown",
      "metadata": {
        "id": "view-in-github",
        "colab_type": "text"
      },
      "source": [
        "<a href=\"https://colab.research.google.com/github/LuizFelipe-FF/Tratamento_DLIS/blob/main/ANP_Desafio_T%C3%A9cnico.ipynb\" target=\"_parent\"><img src=\"https://colab.research.google.com/assets/colab-badge.svg\" alt=\"Open In Colab\"/></a>"
      ]
    },
    {
      "cell_type": "markdown",
      "source": [
        "___\n",
        "*Autor: Luiz Felipe Franco Ferreira - Graduando em Geologia*\n",
        "\n",
        "*Atividade: Desafio Técnico (Python) - ANP*\n",
        "\n",
        "*Data: 16/06/2025*\n",
        "\n",
        "*Resumo: Código com objetivo de extrair dados pré definidos vindos de um arquivo DLIS e organiza-los como um DataFrame.*\n",
        "___"
      ],
      "metadata": {
        "id": "dHdrQ0Ep87HK"
      }
    },
    {
      "cell_type": "markdown",
      "source": [
        "###Etapas:\n",
        "1."
      ],
      "metadata": {
        "id": "2eprWIGv93yO"
      }
    }
  ]
}